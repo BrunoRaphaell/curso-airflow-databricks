{
 "cells": [
  {
   "cell_type": "code",
   "execution_count": 0,
   "metadata": {
    "application/vnd.databricks.v1+cell": {
     "cellMetadata": {
      "byteLimit": 2048000,
      "rowLimit": 10000
     },
     "inputWidgets": {},
     "nuid": "4707d83a-795b-4cc0-8c27-711a3e4a2e88",
     "showTitle": false,
     "title": ""
    }
   },
   "outputs": [],
   "source": [
    "# Importanto a biblioteca\n",
    "\n",
    "import pyspark.pandas as ps"
   ]
  },
  {
   "cell_type": "code",
   "execution_count": 0,
   "metadata": {
    "application/vnd.databricks.v1+cell": {
     "cellMetadata": {
      "byteLimit": 2048000,
      "rowLimit": 10000
     },
     "inputWidgets": {},
     "nuid": "ccc5701c-9cd7-49e2-85f5-b79406d1016f",
     "showTitle": false,
     "title": ""
    }
   },
   "outputs": [
    {
     "output_type": "display_data",
     "data": {
      "text/html": [
       "<div>\n",
       "<style scoped>\n",
       "    .dataframe tbody tr th:only-of-type {\n",
       "        vertical-align: middle;\n",
       "    }\n",
       "\n",
       "    .dataframe tbody tr th {\n",
       "        vertical-align: top;\n",
       "    }\n",
       "\n",
       "    .dataframe thead th {\n",
       "        text-align: right;\n",
       "    }\n",
       "</style>\n",
       "<table border=\"1\" class=\"dataframe\">\n",
       "  <thead>\n",
       "    <tr style=\"text-align: right;\">\n",
       "      <th></th>\n",
       "      <th>moeda</th>\n",
       "      <th>taxa</th>\n",
       "      <th>data</th>\n",
       "    </tr>\n",
       "  </thead>\n",
       "  <tbody>\n",
       "    <tr>\n",
       "      <th>0</th>\n",
       "      <td>SCR</td>\n",
       "      <td>2.751143</td>\n",
       "      <td>2023-04-01</td>\n",
       "    </tr>\n",
       "    <tr>\n",
       "      <th>1</th>\n",
       "      <td>SDG</td>\n",
       "      <td>117.907263</td>\n",
       "      <td>2023-04-01</td>\n",
       "    </tr>\n",
       "    <tr>\n",
       "      <th>2</th>\n",
       "      <td>SEK</td>\n",
       "      <td>2.049749</td>\n",
       "      <td>2023-04-01</td>\n",
       "    </tr>\n",
       "    <tr>\n",
       "      <th>3</th>\n",
       "      <td>SGD</td>\n",
       "      <td>0.262833</td>\n",
       "      <td>2023-04-01</td>\n",
       "    </tr>\n",
       "    <tr>\n",
       "      <th>4</th>\n",
       "      <td>SHP</td>\n",
       "      <td>0.240308</td>\n",
       "      <td>2023-04-01</td>\n",
       "    </tr>\n",
       "  </tbody>\n",
       "</table>\n",
       "</div>"
      ]
     },
     "metadata": {
      "application/vnd.databricks.v1+output": {
       "addedWidgets": {},
       "arguments": {},
       "data": "<div>\n<style scoped>\n    .dataframe tbody tr th:only-of-type {\n        vertical-align: middle;\n    }\n\n    .dataframe tbody tr th {\n        vertical-align: top;\n    }\n\n    .dataframe thead th {\n        text-align: right;\n    }\n</style>\n<table border=\"1\" class=\"dataframe\">\n  <thead>\n    <tr style=\"text-align: right;\">\n      <th></th>\n      <th>moeda</th>\n      <th>taxa</th>\n      <th>data</th>\n    </tr>\n  </thead>\n  <tbody>\n    <tr>\n      <th>0</th>\n      <td>SCR</td>\n      <td>2.751143</td>\n      <td>2023-04-01</td>\n    </tr>\n    <tr>\n      <th>1</th>\n      <td>SDG</td>\n      <td>117.907263</td>\n      <td>2023-04-01</td>\n    </tr>\n    <tr>\n      <th>2</th>\n      <td>SEK</td>\n      <td>2.049749</td>\n      <td>2023-04-01</td>\n    </tr>\n    <tr>\n      <th>3</th>\n      <td>SGD</td>\n      <td>0.262833</td>\n      <td>2023-04-01</td>\n    </tr>\n    <tr>\n      <th>4</th>\n      <td>SHP</td>\n      <td>0.240308</td>\n      <td>2023-04-01</td>\n    </tr>\n  </tbody>\n</table>\n</div>",
       "datasetInfos": [],
       "metadata": {},
       "removedWidgets": [],
       "textData": null,
       "type": "htmlSandbox"
      }
     },
     "output_type": "display_data"
    }
   ],
   "source": [
    "# Lendo os arquivos Parquet\n",
    "\n",
    "df_junto = ps.read_parquet(\"dbfs:/databricks-results/bronze/*/*/*\")\n",
    "df_junto.head()"
   ]
  },
  {
   "cell_type": "code",
   "execution_count": 0,
   "metadata": {
    "application/vnd.databricks.v1+cell": {
     "cellMetadata": {
      "byteLimit": 2048000,
      "rowLimit": 10000
     },
     "inputWidgets": {},
     "nuid": "efdff468-b2ee-4880-86b9-ecade53aae41",
     "showTitle": false,
     "title": ""
    }
   },
   "outputs": [
    {
     "output_type": "display_data",
     "data": {
      "text/html": [
       "<div>\n",
       "<style scoped>\n",
       "    .dataframe tbody tr th:only-of-type {\n",
       "        vertical-align: middle;\n",
       "    }\n",
       "\n",
       "    .dataframe tbody tr th {\n",
       "        vertical-align: top;\n",
       "    }\n",
       "\n",
       "    .dataframe thead th {\n",
       "        text-align: right;\n",
       "    }\n",
       "</style>\n",
       "<table border=\"1\" class=\"dataframe\">\n",
       "  <thead>\n",
       "    <tr style=\"text-align: right;\">\n",
       "      <th></th>\n",
       "      <th>moeda</th>\n",
       "      <th>taxa</th>\n",
       "      <th>data</th>\n",
       "    </tr>\n",
       "  </thead>\n",
       "  <tbody>\n",
       "    <tr>\n",
       "      <th>24</th>\n",
       "      <td>USD</td>\n",
       "      <td>0.197499</td>\n",
       "      <td>2023-04-01</td>\n",
       "    </tr>\n",
       "    <tr>\n",
       "      <th>68</th>\n",
       "      <td>USD</td>\n",
       "      <td>0.197449</td>\n",
       "      <td>2023-04-03</td>\n",
       "    </tr>\n",
       "    <tr>\n",
       "      <th>112</th>\n",
       "      <td>USD</td>\n",
       "      <td>0.197153</td>\n",
       "      <td>2023-04-04</td>\n",
       "    </tr>\n",
       "    <tr>\n",
       "      <th>156</th>\n",
       "      <td>USD</td>\n",
       "      <td>0.198622</td>\n",
       "      <td>2023-04-05</td>\n",
       "    </tr>\n",
       "    <tr>\n",
       "      <th>200</th>\n",
       "      <td>USD</td>\n",
       "      <td>0.197765</td>\n",
       "      <td>2023-04-07</td>\n",
       "    </tr>\n",
       "  </tbody>\n",
       "</table>\n",
       "</div>"
      ]
     },
     "metadata": {
      "application/vnd.databricks.v1+output": {
       "addedWidgets": {},
       "arguments": {},
       "data": "<div>\n<style scoped>\n    .dataframe tbody tr th:only-of-type {\n        vertical-align: middle;\n    }\n\n    .dataframe tbody tr th {\n        vertical-align: top;\n    }\n\n    .dataframe thead th {\n        text-align: right;\n    }\n</style>\n<table border=\"1\" class=\"dataframe\">\n  <thead>\n    <tr style=\"text-align: right;\">\n      <th></th>\n      <th>moeda</th>\n      <th>taxa</th>\n      <th>data</th>\n    </tr>\n  </thead>\n  <tbody>\n    <tr>\n      <th>24</th>\n      <td>USD</td>\n      <td>0.197499</td>\n      <td>2023-04-01</td>\n    </tr>\n    <tr>\n      <th>68</th>\n      <td>USD</td>\n      <td>0.197449</td>\n      <td>2023-04-03</td>\n    </tr>\n    <tr>\n      <th>112</th>\n      <td>USD</td>\n      <td>0.197153</td>\n      <td>2023-04-04</td>\n    </tr>\n    <tr>\n      <th>156</th>\n      <td>USD</td>\n      <td>0.198622</td>\n      <td>2023-04-05</td>\n    </tr>\n    <tr>\n      <th>200</th>\n      <td>USD</td>\n      <td>0.197765</td>\n      <td>2023-04-07</td>\n    </tr>\n  </tbody>\n</table>\n</div>",
       "datasetInfos": [],
       "metadata": {},
       "removedWidgets": [],
       "textData": null,
       "type": "htmlSandbox"
      }
     },
     "output_type": "display_data"
    }
   ],
   "source": [
    "# Filtrando as moedas:\n",
    "\n",
    "moedas = ['USD', 'EUR', 'GBP']\n",
    "\n",
    "df_moedas = df_junto[df_junto['moeda'].isin(moedas)]\n",
    "df_moedas.head()"
   ]
  },
  {
   "cell_type": "code",
   "execution_count": 0,
   "metadata": {
    "application/vnd.databricks.v1+cell": {
     "cellMetadata": {
      "byteLimit": 2048000,
      "rowLimit": 10000
     },
     "inputWidgets": {},
     "nuid": "234d1434-459b-4016-b4dc-6c82bc6b22a8",
     "showTitle": false,
     "title": ""
    }
   },
   "outputs": [],
   "source": [
    "# Convertendo a coluna para datetime\n",
    "\n",
    "df_moedas['data'] = ps.to_datetime(df_moedas['data'])"
   ]
  },
  {
   "cell_type": "code",
   "execution_count": 0,
   "metadata": {
    "application/vnd.databricks.v1+cell": {
     "cellMetadata": {
      "byteLimit": 2048000,
      "rowLimit": 10000
     },
     "inputWidgets": {},
     "nuid": "15593e90-2875-4906-9eac-cabfdc29dd84",
     "showTitle": false,
     "title": ""
    }
   },
   "outputs": [
    {
     "output_type": "display_data",
     "data": {
      "text/html": [
       "<div>\n",
       "<style scoped>\n",
       "    .dataframe tbody tr th:only-of-type {\n",
       "        vertical-align: middle;\n",
       "    }\n",
       "\n",
       "    .dataframe tbody tr th {\n",
       "        vertical-align: top;\n",
       "    }\n",
       "\n",
       "    .dataframe thead th {\n",
       "        text-align: right;\n",
       "    }\n",
       "</style>\n",
       "<table border=\"1\" class=\"dataframe\">\n",
       "  <thead>\n",
       "    <tr style=\"text-align: right;\">\n",
       "      <th>moeda</th>\n",
       "      <th>EUR</th>\n",
       "      <th>GBP</th>\n",
       "      <th>USD</th>\n",
       "    </tr>\n",
       "    <tr>\n",
       "      <th>data</th>\n",
       "      <th></th>\n",
       "      <th></th>\n",
       "      <th></th>\n",
       "    </tr>\n",
       "  </thead>\n",
       "  <tbody>\n",
       "    <tr>\n",
       "      <th>2023-06-03</th>\n",
       "      <td>0.188000</td>\n",
       "      <td>0.161948</td>\n",
       "      <td>0.201641</td>\n",
       "    </tr>\n",
       "    <tr>\n",
       "      <th>2023-06-02</th>\n",
       "      <td>0.188068</td>\n",
       "      <td>0.161989</td>\n",
       "      <td>0.201693</td>\n",
       "    </tr>\n",
       "    <tr>\n",
       "      <th>2023-05-31</th>\n",
       "      <td>0.184947</td>\n",
       "      <td>0.158901</td>\n",
       "      <td>0.197773</td>\n",
       "    </tr>\n",
       "    <tr>\n",
       "      <th>2023-05-30</th>\n",
       "      <td>0.185027</td>\n",
       "      <td>0.159981</td>\n",
       "      <td>0.198558</td>\n",
       "    </tr>\n",
       "    <tr>\n",
       "      <th>2023-05-29</th>\n",
       "      <td>0.186059</td>\n",
       "      <td>0.161327</td>\n",
       "      <td>0.199219</td>\n",
       "    </tr>\n",
       "  </tbody>\n",
       "</table>\n",
       "</div>"
      ]
     },
     "metadata": {
      "application/vnd.databricks.v1+output": {
       "addedWidgets": {},
       "arguments": {},
       "data": "<div>\n<style scoped>\n    .dataframe tbody tr th:only-of-type {\n        vertical-align: middle;\n    }\n\n    .dataframe tbody tr th {\n        vertical-align: top;\n    }\n\n    .dataframe thead th {\n        text-align: right;\n    }\n</style>\n<table border=\"1\" class=\"dataframe\">\n  <thead>\n    <tr style=\"text-align: right;\">\n      <th>moeda</th>\n      <th>EUR</th>\n      <th>GBP</th>\n      <th>USD</th>\n    </tr>\n    <tr>\n      <th>data</th>\n      <th></th>\n      <th></th>\n      <th></th>\n    </tr>\n  </thead>\n  <tbody>\n    <tr>\n      <th>2023-06-03</th>\n      <td>0.188000</td>\n      <td>0.161948</td>\n      <td>0.201641</td>\n    </tr>\n    <tr>\n      <th>2023-06-02</th>\n      <td>0.188068</td>\n      <td>0.161989</td>\n      <td>0.201693</td>\n    </tr>\n    <tr>\n      <th>2023-05-31</th>\n      <td>0.184947</td>\n      <td>0.158901</td>\n      <td>0.197773</td>\n    </tr>\n    <tr>\n      <th>2023-05-30</th>\n      <td>0.185027</td>\n      <td>0.159981</td>\n      <td>0.198558</td>\n    </tr>\n    <tr>\n      <th>2023-05-29</th>\n      <td>0.186059</td>\n      <td>0.161327</td>\n      <td>0.199219</td>\n    </tr>\n  </tbody>\n</table>\n</div>",
       "datasetInfos": [],
       "metadata": {},
       "removedWidgets": [],
       "textData": null,
       "type": "htmlSandbox"
      }
     },
     "output_type": "display_data"
    }
   ],
   "source": [
    "# Pivotando o DataFrame\n",
    "\n",
    "resultado_taxas_conversao = df_moedas.pivot_table(\n",
    "    values='taxa', \n",
    "    index=['data'], \n",
    "    columns='moeda', \n",
    "    aggfunc='first'\n",
    "    ).sort_index(ascending=False)\n",
    "\n",
    "resultado_taxas_conversao.head()"
   ]
  },
  {
   "cell_type": "code",
   "execution_count": 0,
   "metadata": {
    "application/vnd.databricks.v1+cell": {
     "cellMetadata": {
      "byteLimit": 2048000,
      "rowLimit": 10000
     },
     "inputWidgets": {},
     "nuid": "ceeafd50-77f0-4769-ba36-d2223f0de491",
     "showTitle": false,
     "title": ""
    }
   },
   "outputs": [],
   "source": [
    "resultado_valores_reais = resultado_taxas_conversao.copy()"
   ]
  },
  {
   "cell_type": "code",
   "execution_count": 0,
   "metadata": {
    "application/vnd.databricks.v1+cell": {
     "cellMetadata": {
      "byteLimit": 2048000,
      "rowLimit": 10000
     },
     "inputWidgets": {},
     "nuid": "fc0a1a5d-8328-43d8-965b-83053afded96",
     "showTitle": false,
     "title": ""
    }
   },
   "outputs": [],
   "source": [
    "for moeda in moedas:\n",
    "    resultado_valores_reais[moeda] = resultado_valores_reais[moeda]\\\n",
    "            .apply(\n",
    "                lambda x: round(1 / x, 4)\n",
    "            )\n"
   ]
  },
  {
   "cell_type": "code",
   "execution_count": 0,
   "metadata": {
    "application/vnd.databricks.v1+cell": {
     "cellMetadata": {
      "byteLimit": 2048000,
      "rowLimit": 10000
     },
     "inputWidgets": {},
     "nuid": "e20e3b9d-3a10-450c-9719-9f610c134709",
     "showTitle": false,
     "title": ""
    }
   },
   "outputs": [
    {
     "output_type": "display_data",
     "data": {
      "text/html": [
       "<div>\n",
       "<style scoped>\n",
       "    .dataframe tbody tr th:only-of-type {\n",
       "        vertical-align: middle;\n",
       "    }\n",
       "\n",
       "    .dataframe tbody tr th {\n",
       "        vertical-align: top;\n",
       "    }\n",
       "\n",
       "    .dataframe thead th {\n",
       "        text-align: right;\n",
       "    }\n",
       "</style>\n",
       "<table border=\"1\" class=\"dataframe\">\n",
       "  <thead>\n",
       "    <tr style=\"text-align: right;\">\n",
       "      <th>moeda</th>\n",
       "      <th>EUR</th>\n",
       "      <th>GBP</th>\n",
       "      <th>USD</th>\n",
       "    </tr>\n",
       "    <tr>\n",
       "      <th>data</th>\n",
       "      <th></th>\n",
       "      <th></th>\n",
       "      <th></th>\n",
       "    </tr>\n",
       "  </thead>\n",
       "  <tbody>\n",
       "    <tr>\n",
       "      <th>2023-04-01</th>\n",
       "      <td>5.5042</td>\n",
       "      <td>6.2507</td>\n",
       "      <td>5.0633</td>\n",
       "    </tr>\n",
       "    <tr>\n",
       "      <th>2023-04-02</th>\n",
       "      <td>5.4718</td>\n",
       "      <td>6.2230</td>\n",
       "      <td>5.0638</td>\n",
       "    </tr>\n",
       "    <tr>\n",
       "      <th>2023-04-03</th>\n",
       "      <td>5.5257</td>\n",
       "      <td>6.2915</td>\n",
       "      <td>5.0646</td>\n",
       "    </tr>\n",
       "    <tr>\n",
       "      <th>2023-04-04</th>\n",
       "      <td>5.5583</td>\n",
       "      <td>6.3391</td>\n",
       "      <td>5.0722</td>\n",
       "    </tr>\n",
       "    <tr>\n",
       "      <th>2023-04-05</th>\n",
       "      <td>5.4899</td>\n",
       "      <td>6.2745</td>\n",
       "      <td>5.0347</td>\n",
       "    </tr>\n",
       "  </tbody>\n",
       "</table>\n",
       "</div>"
      ]
     },
     "metadata": {
      "application/vnd.databricks.v1+output": {
       "addedWidgets": {},
       "arguments": {},
       "data": "<div>\n<style scoped>\n    .dataframe tbody tr th:only-of-type {\n        vertical-align: middle;\n    }\n\n    .dataframe tbody tr th {\n        vertical-align: top;\n    }\n\n    .dataframe thead th {\n        text-align: right;\n    }\n</style>\n<table border=\"1\" class=\"dataframe\">\n  <thead>\n    <tr style=\"text-align: right;\">\n      <th>moeda</th>\n      <th>EUR</th>\n      <th>GBP</th>\n      <th>USD</th>\n    </tr>\n    <tr>\n      <th>data</th>\n      <th></th>\n      <th></th>\n      <th></th>\n    </tr>\n  </thead>\n  <tbody>\n    <tr>\n      <th>2023-04-01</th>\n      <td>5.5042</td>\n      <td>6.2507</td>\n      <td>5.0633</td>\n    </tr>\n    <tr>\n      <th>2023-04-02</th>\n      <td>5.4718</td>\n      <td>6.2230</td>\n      <td>5.0638</td>\n    </tr>\n    <tr>\n      <th>2023-04-03</th>\n      <td>5.5257</td>\n      <td>6.2915</td>\n      <td>5.0646</td>\n    </tr>\n    <tr>\n      <th>2023-04-04</th>\n      <td>5.5583</td>\n      <td>6.3391</td>\n      <td>5.0722</td>\n    </tr>\n    <tr>\n      <th>2023-04-05</th>\n      <td>5.4899</td>\n      <td>6.2745</td>\n      <td>5.0347</td>\n    </tr>\n  </tbody>\n</table>\n</div>",
       "datasetInfos": [],
       "metadata": {},
       "removedWidgets": [],
       "textData": null,
       "type": "htmlSandbox"
      }
     },
     "output_type": "display_data"
    }
   ],
   "source": [
    "resultado_valores_reais.head()"
   ]
  }
 ],
 "metadata": {
  "application/vnd.databricks.v1+notebook": {
   "dashboards": [],
   "language": "python",
   "notebookMetadata": {
    "pythonIndentUnit": 4
   },
   "notebookName": "desafio-aula-04",
   "widgets": {}
  }
 },
 "nbformat": 4,
 "nbformat_minor": 0
}
