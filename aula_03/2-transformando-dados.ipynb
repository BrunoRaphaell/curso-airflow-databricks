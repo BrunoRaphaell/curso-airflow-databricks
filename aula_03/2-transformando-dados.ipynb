{
 "cells": [
  {
   "cell_type": "code",
   "execution_count": 0,
   "metadata": {
    "application/vnd.databricks.v1+cell": {
     "cellMetadata": {
      "byteLimit": 2048000,
      "rowLimit": 10000
     },
     "inputWidgets": {},
     "nuid": "ab062e6f-cb84-4777-8977-bf09e3e5d134",
     "showTitle": false,
     "title": ""
    }
   },
   "outputs": [],
   "source": [
    "from pyspark.sql.functions import to_date, first, col, round"
   ]
  },
  {
   "cell_type": "code",
   "execution_count": 0,
   "metadata": {
    "application/vnd.databricks.v1+cell": {
     "cellMetadata": {
      "byteLimit": 2048000,
      "rowLimit": 10000
     },
     "inputWidgets": {},
     "nuid": "e38f1221-3d09-4420-84c3-4ddd9c43102a",
     "showTitle": false,
     "title": ""
    }
   },
   "outputs": [],
   "source": [
    "df_junto = spark.read.parquet(\"dbfs:/databricks-results/bronze/*/*/*\")"
   ]
  },
  {
   "cell_type": "code",
   "execution_count": 0,
   "metadata": {
    "application/vnd.databricks.v1+cell": {
     "cellMetadata": {
      "byteLimit": 2048000,
      "rowLimit": 10000
     },
     "inputWidgets": {},
     "nuid": "4bbb349f-ed07-40dd-96c1-06d64f0b2240",
     "showTitle": false,
     "title": ""
    }
   },
   "outputs": [],
   "source": [
    "moedas = ['USD', 'EUR', 'GBP']\n",
    "\n",
    "df_moedas = df_junto.filter(df_junto.moeda.isin(moedas))"
   ]
  },
  {
   "cell_type": "code",
   "execution_count": 0,
   "metadata": {
    "application/vnd.databricks.v1+cell": {
     "cellMetadata": {
      "byteLimit": 2048000,
      "rowLimit": 10000
     },
     "inputWidgets": {},
     "nuid": "2ad92a97-c5c0-4a20-9c37-d41ba5995e7d",
     "showTitle": false,
     "title": ""
    }
   },
   "outputs": [],
   "source": [
    "df_moedas = df_moedas.withColumn(\"data\", to_date(\"data\"))"
   ]
  },
  {
   "cell_type": "code",
   "execution_count": 0,
   "metadata": {
    "application/vnd.databricks.v1+cell": {
     "cellMetadata": {
      "byteLimit": 2048000,
      "rowLimit": 10000
     },
     "inputWidgets": {},
     "nuid": "0c618dfb-0108-40f9-a068-3288a2b41870",
     "showTitle": false,
     "title": ""
    }
   },
   "outputs": [],
   "source": [
    "resultado_taxas_conversao = df_moedas.groupBy(\"data\")\\\n",
    "                                    .pivot(\"moeda\")\\\n",
    "                                    .agg(first(\"taxa\"))\\\n",
    "                                    .orderBy(\"data\", ascending=False)"
   ]
  },
  {
   "cell_type": "code",
   "execution_count": 0,
   "metadata": {
    "application/vnd.databricks.v1+cell": {
     "cellMetadata": {
      "byteLimit": 2048000,
      "rowLimit": 10000
     },
     "inputWidgets": {},
     "nuid": "6fce9fa5-205c-4048-859f-755219e40456",
     "showTitle": false,
     "title": ""
    }
   },
   "outputs": [
    {
     "output_type": "stream",
     "name": "stdout",
     "output_type": "stream",
     "text": [
      "+----------+--------+--------+--------+\n|      data|     EUR|     GBP|     USD|\n+----------+--------+--------+--------+\n|2023-04-01|0.181681|0.159983|0.197499|\n|2023-04-02|0.182756|0.160693| 0.19748|\n|2023-04-03|0.180972|0.158945|0.197449|\n|2023-04-04|0.179912|0.157752|0.197153|\n|2023-04-05|0.182154|0.159374|0.198622|\n+----------+--------+--------+--------+\nonly showing top 5 rows\n\n"
     ]
    }
   ],
   "source": [
    "resultado_valores_reais = resultado_taxas_conversao.select(\"*\")"
   ]
  },
  {
   "cell_type": "code",
   "execution_count": 0,
   "metadata": {
    "application/vnd.databricks.v1+cell": {
     "cellMetadata": {
      "byteLimit": 2048000,
      "rowLimit": 10000
     },
     "inputWidgets": {},
     "nuid": "a95e9182-9b79-402b-8104-2c50a7b258fc",
     "showTitle": false,
     "title": ""
    }
   },
   "outputs": [],
   "source": [
    "for moeda in moedas:\n",
    "    resultado_valores_reais = resultado_valores_reais\\\n",
    "                                .withColumn(\n",
    "                                    moeda, round(1/col(moeda), 4)  \n",
    "                                )"
   ]
  },
  {
   "cell_type": "code",
   "execution_count": 0,
   "metadata": {
    "application/vnd.databricks.v1+cell": {
     "cellMetadata": {
      "byteLimit": 2048000,
      "rowLimit": 10000
     },
     "inputWidgets": {},
     "nuid": "78691c56-401c-48ad-a416-6d7b9e49fa24",
     "showTitle": false,
     "title": ""
    }
   },
   "outputs": [],
   "source": [
    "resultado_taxas_conversao = resultado_taxas_conversao.coalesce(1)\n",
    "resultado_valores_reais = resultado_valores_reais.coalesce(1)"
   ]
  },
  {
   "cell_type": "code",
   "execution_count": 0,
   "metadata": {
    "application/vnd.databricks.v1+cell": {
     "cellMetadata": {
      "byteLimit": 2048000,
      "rowLimit": 10000
     },
     "inputWidgets": {},
     "nuid": "076e5cf2-6108-4170-940d-3e6c364e2271",
     "showTitle": false,
     "title": ""
    }
   },
   "outputs": [],
   "source": [
    "# Salvando arquivo de taxas\n",
    "\n",
    "resultado_taxas_conversao.write\\\n",
    "  .mode(\"overwrite\")\\\n",
    "  .format(\"csv\")\\\n",
    "  .option(\"header\", \"true\")\\\n",
    "  .save(\"dbfs:/databricks-results/prata/taxas_conversao\")\n",
    "\n",
    "\n",
    "resultado_valores_reais.write\\\n",
    "  .mode(\"overwrite\")\\\n",
    "  .format(\"csv\")\\\n",
    "  .option(\"header\", \"true\")\\\n",
    "  .save(\"dbfs:/databricks-results/prata/valores_reais\")"
   ]
  },
  {
   "cell_type": "code",
   "execution_count": 0,
   "metadata": {
    "application/vnd.databricks.v1+cell": {
     "cellMetadata": {
      "byteLimit": 2048000,
      "rowLimit": 10000
     },
     "inputWidgets": {},
     "nuid": "9978a667-b9fa-4865-baa9-b09442eac4a7",
     "showTitle": false,
     "title": ""
    }
   },
   "outputs": [
    {
     "output_type": "display_data",
     "data": {
      "text/html": [
       "<style scoped>\n",
       "  .table-result-container {\n",
       "    max-height: 300px;\n",
       "    overflow: auto;\n",
       "  }\n",
       "  table, th, td {\n",
       "    border: 1px solid black;\n",
       "    border-collapse: collapse;\n",
       "  }\n",
       "  th, td {\n",
       "    padding: 5px;\n",
       "  }\n",
       "  th {\n",
       "    text-align: left;\n",
       "  }\n",
       "</style><div class='table-result-container'><table class='table-result'><thead style='background-color: white'><tr><th>path</th><th>name</th><th>size</th><th>modificationTime</th></tr></thead><tbody><tr><td>dbfs:/databricks-results/bronze/2023/06/02/_SUCCESS</td><td>_SUCCESS</td><td>0</td><td>1685710425000</td></tr><tr><td>dbfs:/databricks-results/bronze/2023/06/02/_committed_4783029921312244598</td><td>_committed_4783029921312244598</td><td>416</td><td>1685710425000</td></tr><tr><td>dbfs:/databricks-results/bronze/2023/06/02/_started_4783029921312244598</td><td>_started_4783029921312244598</td><td>0</td><td>1685710422000</td></tr><tr><td>dbfs:/databricks-results/bronze/2023/06/02/part-00000-tid-4783029921312244598-6a77a0ad-5f55-43c4-95a8-3386dced342c-0-1-c000.snappy.parquet</td><td>part-00000-tid-4783029921312244598-6a77a0ad-5f55-43c4-95a8-3386dced342c-0-1-c000.snappy.parquet</td><td>1666</td><td>1685710425000</td></tr><tr><td>dbfs:/databricks-results/bronze/2023/06/02/part-00001-tid-4783029921312244598-6a77a0ad-5f55-43c4-95a8-3386dced342c-1-1-c000.snappy.parquet</td><td>part-00001-tid-4783029921312244598-6a77a0ad-5f55-43c4-95a8-3386dced342c-1-1-c000.snappy.parquet</td><td>1659</td><td>1685710425000</td></tr><tr><td>dbfs:/databricks-results/bronze/2023/06/02/part-00002-tid-4783029921312244598-6a77a0ad-5f55-43c4-95a8-3386dced342c-2-1-c000.snappy.parquet</td><td>part-00002-tid-4783029921312244598-6a77a0ad-5f55-43c4-95a8-3386dced342c-2-1-c000.snappy.parquet</td><td>1677</td><td>1685710425000</td></tr><tr><td>dbfs:/databricks-results/bronze/2023/06/02/part-00003-tid-4783029921312244598-6a77a0ad-5f55-43c4-95a8-3386dced342c-3-1-c000.snappy.parquet</td><td>part-00003-tid-4783029921312244598-6a77a0ad-5f55-43c4-95a8-3386dced342c-3-1-c000.snappy.parquet</td><td>1704</td><td>1685710425000</td></tr></tbody></table></div>"
      ]
     },
     "metadata": {
      "application/vnd.databricks.v1+output": {
       "addedWidgets": {},
       "aggData": [],
       "aggError": "",
       "aggOverflow": false,
       "aggSchema": [],
       "aggSeriesLimitReached": false,
       "aggType": "",
       "arguments": {},
       "columnCustomDisplayInfos": {},
       "data": [
        [
         "dbfs:/databricks-results/bronze/2023/06/02/_SUCCESS",
         "_SUCCESS",
         0,
         1685710425000
        ],
        [
         "dbfs:/databricks-results/bronze/2023/06/02/_committed_4783029921312244598",
         "_committed_4783029921312244598",
         416,
         1685710425000
        ],
        [
         "dbfs:/databricks-results/bronze/2023/06/02/_started_4783029921312244598",
         "_started_4783029921312244598",
         0,
         1685710422000
        ],
        [
         "dbfs:/databricks-results/bronze/2023/06/02/part-00000-tid-4783029921312244598-6a77a0ad-5f55-43c4-95a8-3386dced342c-0-1-c000.snappy.parquet",
         "part-00000-tid-4783029921312244598-6a77a0ad-5f55-43c4-95a8-3386dced342c-0-1-c000.snappy.parquet",
         1666,
         1685710425000
        ],
        [
         "dbfs:/databricks-results/bronze/2023/06/02/part-00001-tid-4783029921312244598-6a77a0ad-5f55-43c4-95a8-3386dced342c-1-1-c000.snappy.parquet",
         "part-00001-tid-4783029921312244598-6a77a0ad-5f55-43c4-95a8-3386dced342c-1-1-c000.snappy.parquet",
         1659,
         1685710425000
        ],
        [
         "dbfs:/databricks-results/bronze/2023/06/02/part-00002-tid-4783029921312244598-6a77a0ad-5f55-43c4-95a8-3386dced342c-2-1-c000.snappy.parquet",
         "part-00002-tid-4783029921312244598-6a77a0ad-5f55-43c4-95a8-3386dced342c-2-1-c000.snappy.parquet",
         1677,
         1685710425000
        ],
        [
         "dbfs:/databricks-results/bronze/2023/06/02/part-00003-tid-4783029921312244598-6a77a0ad-5f55-43c4-95a8-3386dced342c-3-1-c000.snappy.parquet",
         "part-00003-tid-4783029921312244598-6a77a0ad-5f55-43c4-95a8-3386dced342c-3-1-c000.snappy.parquet",
         1704,
         1685710425000
        ]
       ],
       "datasetInfos": [],
       "dbfsResultPath": null,
       "isJsonSchema": true,
       "metadata": {},
       "overflow": false,
       "plotOptions": {
        "customPlotOptions": {},
        "displayType": "table",
        "pivotAggregation": null,
        "pivotColumns": null,
        "xColumns": null,
        "yColumns": null
       },
       "removedWidgets": [],
       "schema": [
        {
         "metadata": "{}",
         "name": "path",
         "type": "\"string\""
        },
        {
         "metadata": "{}",
         "name": "name",
         "type": "\"string\""
        },
        {
         "metadata": "{}",
         "name": "size",
         "type": "\"long\""
        },
        {
         "metadata": "{}",
         "name": "modificationTime",
         "type": "\"long\""
        }
       ],
       "type": "table"
      }
     },
     "output_type": "display_data"
    }
   ],
   "source": [
    "display(dbutils.fs.ls(\"dbfs:/databricks-results/bronze/2023/06/02\"))"
   ]
  }
 ],
 "metadata": {
  "application/vnd.databricks.v1+notebook": {
   "dashboards": [],
   "language": "python",
   "notebookMetadata": {
    "pythonIndentUnit": 4
   },
   "notebookName": "2-transformando-dados",
   "widgets": {}
  }
 },
 "nbformat": 4,
 "nbformat_minor": 0
}
